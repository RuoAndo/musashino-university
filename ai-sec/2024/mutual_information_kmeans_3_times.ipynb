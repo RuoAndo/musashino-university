{
 "cells": [
  {
   "cell_type": "code",
   "execution_count": null,
   "metadata": {},
   "outputs": [],
   "source": [
    "from sklearn import datasets, cluster, metrics\n",
    "import numpy as np\n",
    "import matplotlib.pyplot as plt\n",
    "\n",
    "# データセット生成\n",
    "blobs, ground_truth = datasets.make_blobs(n_samples=1000, centers=3, cluster_std=1.75, random_state=42)\n",
    "\n",
    "# NMIスコアを格納するリスト\n",
    "nmi_scores = []\n",
    "\n",
    "# 3回クラスタリング処理を実行\n",
    "for i in range(3):\n",
    "    kmeans = cluster.KMeans(n_clusters=3, random_state=i)  # random_stateを変えて再実行\n",
    "    kmeans.fit(blobs)\n",
    "    \n",
    "    # NMIスコアを計算\n",
    "    nmi_score = metrics.normalized_mutual_info_score(ground_truth, kmeans.labels_)\n",
    "    nmi_scores.append(nmi_score)\n",
    "    \n",
    "    # クラスタリング結果のプロット\n",
    "    plt.figure(figsize=(7, 6))\n",
    "    colors = ['r', 'g', 'b']\n",
    "    for j in range(3):\n",
    "        p = blobs[kmeans.labels_ == j]\n",
    "        plt.scatter(p[:, 0], p[:, 1], c=colors[j], label=f\"Cluster {j}\")\n",
    "    plt.title(f\"KMeans Result (Run {i+1}), NMI={nmi_score:.3f}\")\n",
    "    plt.xlabel(\"Feature 1\")\n",
    "    plt.ylabel(\"Feature 2\")\n",
    "    plt.legend()\n",
    "    plt.show()\n",
    "\n",
    "# 各クラスタリングのNMIスコアを比較\n",
    "print(\"NMI Scores for each run:\")\n",
    "for i, score in enumerate(nmi_scores):\n",
    "    print(f\"Run {i+1}: NMI Score = {score:.3f}\")\n",
    "\n",
    "# 平均スコアの表示\n",
    "print(f\"\\nAverage NMI Score: {np.mean(nmi_scores):.3f}\")\n"
   ]
  }
 ],
 "metadata": {
  "language_info": {
   "name": "python"
  }
 },
 "nbformat": 4,
 "nbformat_minor": 2
}
