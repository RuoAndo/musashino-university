{
 "cells": [
  {
   "cell_type": "code",
   "execution_count": 2,
   "metadata": {},
   "outputs": [
    {
     "name": "stdout",
     "output_type": "stream",
     "text": [
      "Epoch [1/5], Loss: 163.6905\n",
      "Epoch [2/5], Loss: 47.8699\n",
      "Epoch [3/5], Loss: 32.4421\n",
      "Epoch [4/5], Loss: 23.8458\n",
      "Epoch [5/5], Loss: 19.5408\n"
     ]
    },
    {
     "data": {
      "image/png": "[encoded data removed]",
      "text/plain": [
       "<Figure size 1000x500 with 2 Axes>"
      ]
     },
     "metadata": {},
     "output_type": "display_data"
    }
   ],
   "source": [
    "import torch\n",
    "import torch.nn as nn\n",
    "import torch.optim as optim\n",
    "import torchvision.transforms as transforms\n",
    "import torchvision.datasets as datasets\n",
    "from torch.utils.data import DataLoader\n",
    "import matplotlib.pyplot as plt\n",
    "\n",
    "# 1. 改善した畳み込みニューラルネットワーク(CNN)の定義\n",
    "class CNN(nn.Module):\n",
    "    def __init__(self):\n",
    "        super(CNN, self).__init__()\n",
    "        self.conv1 = nn.Conv2d(1, 32, kernel_size=3, stride=1, padding=1)\n",
    "        self.conv2 = nn.Conv2d(32, 64, kernel_size=3, stride=1, padding=1)\n",
    "        self.pool = nn.MaxPool2d(2, 2)\n",
    "        self.fc1 = nn.Linear(64 * 7 * 7, 128)\n",
    "        self.fc2 = nn.Linear(128, 10)\n",
    "\n",
    "    def forward(self, x):\n",
    "        x = self.pool(torch.relu(self.conv1(x)))\n",
    "        x = self.pool(torch.relu(self.conv2(x)))\n",
    "        x = x.view(-1, 64 * 7 * 7)  # Flatten\n",
    "        x = torch.relu(self.fc1(x))\n",
    "        x = self.fc2(x)\n",
    "        return x\n",
    "\n",
    "# 2. データの準備\n",
    "transform = transforms.Compose([transforms.ToTensor()])\n",
    "train_dataset = datasets.MNIST(root='./data', train=True, download=True, transform=transform)\n",
    "train_loader = DataLoader(train_dataset, batch_size=64, shuffle=True)\n",
    "\n",
    "# 3. モデルと最適化関数の初期化\n",
    "model = CNN()\n",
    "criterion = nn.CrossEntropyLoss()\n",
    "optimizer = optim.Adam(model.parameters(), lr=0.001)\n",
    "\n",
    "# 4. モデルの学習（5エポック）\n",
    "epochs = 5\n",
    "for epoch in range(epochs):\n",
    "    total_loss = 0\n",
    "    for images, labels in train_loader:\n",
    "        optimizer.zero_grad()\n",
    "        outputs = model(images)\n",
    "        loss = criterion(outputs, labels)\n",
    "        loss.backward()\n",
    "        optimizer.step()\n",
    "        total_loss += loss.item()\n",
    "    print(f'Epoch [{epoch + 1}/{epochs}], Loss: {total_loss:.4f}')\n",
    "\n",
    "# 5. 敵対的サンプル生成関数（FGSM）\n",
    "def generate_adversarial_example(model, image, label, epsilon=0.1):\n",
    "    image.requires_grad = True\n",
    "    output = model(image)\n",
    "    loss = criterion(output, label)\n",
    "    model.zero_grad()\n",
    "    loss.backward()\n",
    "\n",
    "    # ノイズ生成\n",
    "    perturbation = epsilon * image.grad.sign()\n",
    "    adversarial_image = image + perturbation\n",
    "    adversarial_image = torch.clamp(adversarial_image, 0, 1)\n",
    "    return adversarial_image\n",
    "\n",
    "# 6. オリジナル画像と敵対的サンプルの認識結果の取得\n",
    "def get_prediction(model, image):\n",
    "    output = model(image)\n",
    "    pred = torch.argmax(output, dim=1)\n",
    "    return pred.item()\n",
    "\n",
    "# 7. 画像の取得と表示\n",
    "images, labels = next(iter(train_loader))\n",
    "image, label = images[0:1], labels[0:1]\n",
    "\n",
    "# 敵対的サンプル生成\n",
    "adversarial_image = generate_adversarial_example(model, image, label)\n",
    "\n",
    "# 認識結果取得\n",
    "original_pred = get_prediction(model, image)\n",
    "adversarial_pred = get_prediction(model, adversarial_image)\n",
    "\n",
    "# 結果の表示\n",
    "fig, ax = plt.subplots(1, 2, figsize=(10, 5))\n",
    "ax[0].imshow(image.squeeze().detach().numpy(), cmap='gray')\n",
    "ax[0].set_title(f\"Original Prediction: {original_pred}\")\n",
    "ax[0].axis('off')\n",
    "\n",
    "ax[1].imshow(adversarial_image.squeeze().detach().numpy(), cmap='gray')\n",
    "ax[1].set_title(f\"Adversarial Prediction: {adversarial_pred}\")\n",
    "ax[1].axis('off')\n",
    "\n",
    "plt.show()\n"
   ]
  }
 ],
 "metadata": {
  "kernelspec": {
   "display_name": "Python 3",
   "language": "python",
   "name": "python3"
  },
  "language_info": {
   "codemirror_mode": {
    "name": "ipython",
    "version": 3
   },
   "file_extension": ".py",
   "mimetype": "text/x-python",
   "name": "python",
   "nbconvert_exporter": "python",
   "pygments_lexer": "ipython3",
   "version": "3.12.7"
  }
 },
 "nbformat": 4,
 "nbformat_minor": 2
}
