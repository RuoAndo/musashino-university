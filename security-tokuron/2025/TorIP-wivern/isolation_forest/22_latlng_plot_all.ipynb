{
 "cells": [
  {
   "cell_type": "code",
   "execution_count": null,
   "id": "ca4ad2e5",
   "metadata": {},
   "outputs": [
    {
     "name": "stdout",
     "output_type": "stream",
     "text": [
      "発見されたCSVファイル数: 16\n",
      "✅ ./isolation_forest_all\\plot_20251003142418-TorIP_geocoded.png を作成しました。\n",
      "✅ ./isolation_forest_all\\plot_20251003143810-TorIP_geocoded.png を作成しました。\n",
      "✅ ./isolation_forest_all\\plot_20251003164852-TorIP_geocoded.png を作成しました。\n",
      "✅ ./isolation_forest_all\\plot_20251003172946-TorIP_geocoded.png を作成しました。\n",
      "✅ ./isolation_forest_all\\plot_20251003173524-TorIP_geocoded.png を作成しました。\n",
      "✅ ./isolation_forest_all\\plot_20251004173514-TorIP_geocoded.png を作成しました。\n",
      "✅ ./isolation_forest_all\\plot_20251005173523-TorIP_geocoded.png を作成しました。\n",
      "✅ ./isolation_forest_all\\plot_20251006173520-TorIP_geocoded.png を作成しました。\n",
      "✅ ./isolation_forest_all\\plot_20251007173522-TorIP_geocoded.png を作成しました。\n",
      "✅ ./isolation_forest_all\\plot_20251008173518-TorIP_geocoded.png を作成しました。\n",
      "✅ ./isolation_forest_all\\plot_20251009173527-TorIP_geocoded.png を作成しました。\n",
      "✅ ./isolation_forest_all\\plot_20251010173526-TorIP_geocoded.png を作成しました。\n",
      "✅ ./isolation_forest_all\\plot_20251011173523-TorIP_geocoded.png を作成しました。\n",
      "✅ ./isolation_forest_all\\plot_20251012173526-TorIP_geocoded.png を作成しました。\n",
      "✅ ./isolation_forest_all\\plot_20251013173525-TorIP_geocoded.png を作成しました。\n",
      "✅ ./isolation_forest_all\\plot_20251014173524-TorIP_geocoded.png を作成しました。\n"
     ]
    }
   ],
   "source": [
    "#!/usr/bin/env python\n",
    "# -*- coding: utf-8 -*-\n",
    "\n",
    "import zipfile\n",
    "import os\n",
    "import pandas as pd\n",
    "import matplotlib.pyplot as plt\n",
    "\n",
    "# ====== 設定 ======\n",
    "ZIP_PATH = \"./isolation_forest.zip\"\n",
    "EXTRACT_DIR = \"./isolation_forest_all\"\n",
    "\n",
    "# ====== ZIPを展開 ======\n",
    "os.makedirs(EXTRACT_DIR, exist_ok=True)\n",
    "with zipfile.ZipFile(ZIP_PATH, \"r\") as zip_ref:\n",
    "    zip_ref.extractall(EXTRACT_DIR)\n",
    "\n",
    "# ====== CSVファイル一覧 ======\n",
    "csv_files = []\n",
    "for root, dirs, files in os.walk(EXTRACT_DIR):\n",
    "    for f\n"
   ]
  }
 ],
 "metadata": {
  "kernelspec": {
   "display_name": "Python 3",
   "language": "python",
   "name": "python3"
  },
  "language_info": {
   "codemirror_mode": {
    "name": "ipython",
    "version": 3
   },
   "file_extension": ".py",
   "mimetype": "text/x-python",
   "name": "python",
   "nbconvert_exporter": "python",
   "pygments_lexer": "ipython3",
   "version": "3.12.10"
  }
 },
 "nbformat": 4,
 "nbformat_minor": 5
}
